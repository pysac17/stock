{
  "cells": [
    {
      "cell_type": "code",
      "execution_count": null,
      "metadata": {
        "id": "P7RP5uQbPSx3"
      },
      "outputs": [],
      "source": [
        "import streamlit as st\n",
        "from datetime import date\n",
        "import yfinance as yf\n",
        "from prophet import Prophet\n",
        "from prophet.plot import plot_plotly\n",
        "from plotly import graph_objs as go"
      ]
    },
    {
      "cell_type": "code",
      "execution_count": null,
      "metadata": {
        "colab": {
          "base_uri": "https://localhost:8080/"
        },
        "id": "yfF5u18bRVu_",
        "outputId": "12cd7493-aec4-4c33-db77-0b295cdeceb4"
      },
      "outputs": [
        {
          "name": "stdout",
          "output_type": "stream",
          "text": [
            "Writing app.py\n"
          ]
        }
      ],
      "source": [
        "%%writefile app.py \n",
        "import streamlit as st\n",
        "from datetime import date\n",
        "import yfinance as yf\n",
        "from prophet import Prophet\n",
        "from prophet.plot import plot_plotly\n",
        "from plotly import graph_objs as go\n",
        "import pandas as pd\n",
        "\n",
        "start = '2010-01-01'\n",
        "today = date.today().strftime(\"%Y-%m-%d\")\n",
        "\n",
        "stocks = pd.read_html('https://en.wikipedia.org/wiki/List_of_S%26P_500_companies')[0]\n",
        "\n",
        "st.title('Stock Prediction')\n",
        "selected_stock = st.selectbox(\"Select ticker name for prediction\", stocks)\n",
        "n_years = st.slider(\"Years Prediction: \", 1, 5)\n",
        "period = n_years*365\n",
        "\n",
        "@st.cache_data\n",
        "def load_data(ticker):\n",
        "  data = yf.download(ticker, start, today)\n",
        "  data.reset_index(inplace=True)\n",
        "  return data\n",
        "\n",
        "data_load_state = st.text(\"Load data...\")\n",
        "data = load_data(selected_stock)\n",
        "data_load_state.text(\"Loading data...done!\")\n",
        "\n",
        "st.subheader('Raw data')\n",
        "st.write(data)\n",
        "\n",
        "def plot_raw_data():\n",
        "  fig = go.Figure()\n",
        "  fig.add_trace(go.Scatter(x=data['Date'], y=data['Open'], name='stock_open'))\n",
        "  fig.add_trace(go.Scatter(x=data['Date'], y=data['Close'], name='stock_close'))\n",
        "  fig.layout.update(title_text=\"Time Series Data\", xaxis_rangeslider_visible=True)\n",
        "  st.plotly_chart(fig)\n",
        "\n",
        "plot_raw_data()\n",
        "df_train = data[['Date', 'Close']]\n",
        "df_train = df_train.rename(columns={\"Date\": \"ds\", \"Close\": \"y\"})\n",
        "\n",
        "m = Prophet()\n",
        "m.fit(df_train)\n",
        "future = m.make_future_dataframe(periods = period)\n",
        "forecast = m.predict(future)\n",
        "\n",
        "st.subheader('Forecast data')\n",
        "st.write(forecast)\n",
        "\n",
        "st.write('forecast data')\n",
        "fig1 = plot_plotly(m, forecast)\n",
        "st.plotly_chart(fig1)\n",
        "\n",
        "st.write('forecast components')\n",
        "fig2 = m.plot_components(forecast)\n",
        "st.write(fig2)\n"
      ]
    },
    {
      "cell_type": "code",
      "execution_count": null,
      "metadata": {
        "colab": {
          "background_save": true,
          "base_uri": "https://localhost:8080/"
        },
        "id": "zL6W4j9hRVw7",
        "outputId": "0e2cd432-26b3-402a-bc8b-6d0edbbe2bad"
      },
      "outputs": [
        {
          "name": "stdout",
          "output_type": "stream",
          "text": [
            "\u001b[K\u001b[?25hnpx: installed 22 in 3.402s\n",
            "your url is: https://late-memes-rule-34-73-133-250.loca.lt\n",
            "\n",
            "Collecting usage statistics. To deactivate, set browser.gatherUsageStats to False.\n",
            "\u001b[0m\n",
            "\u001b[0m\n",
            "\u001b[34m\u001b[1m  You can now view your Streamlit app in your browser.\u001b[0m\n",
            "\u001b[0m\n",
            "\u001b[34m  Network URL: \u001b[0m\u001b[1mhttp://172.28.0.12:8501\u001b[0m\n",
            "\u001b[34m  External URL: \u001b[0m\u001b[1mhttp://34.73.133.250:8501\u001b[0m\n",
            "\u001b[0m\n",
            "[*********************100%***********************]  1 of 1 completed\n",
            "2023-03-30 21:46:40.225 Disabling daily seasonality. Run prophet with daily_seasonality=True to override this.\n",
            "2023-03-30 21:46:40.281 input tempfile: /tmp/tmpxz18s_p_/ec_scytg.json\n",
            "2023-03-30 21:46:40.579 input tempfile: /tmp/tmpxz18s_p_/1kkaoh31.json\n",
            "2023-03-30 21:46:40.581 idx 0\n",
            "2023-03-30 21:46:40.581 running CmdStan, num_threads: None\n",
            "2023-03-30 21:46:40.581 CmdStan args: ['/usr/local/lib/python3.9/dist-packages/prophet/stan_model/prophet_model.bin', 'random', 'seed=88516', 'data', 'file=/tmp/tmpxz18s_p_/ec_scytg.json', 'init=/tmp/tmpxz18s_p_/1kkaoh31.json', 'output', 'file=/tmp/tmpxz18s_p_/prophet_model399ryl0m/prophet_model-20230330214640.csv', 'method=optimize', 'algorithm=lbfgs', 'iter=10000']\n",
            "21:46:40 - cmdstanpy - INFO - Chain [1] start processing\n",
            "2023-03-30 21:46:40.581 Chain [1] start processing\n",
            "21:46:42 - cmdstanpy - INFO - Chain [1] done processing\n",
            "2023-03-30 21:46:42.734 Chain [1] done processing\n",
            "[*********************100%***********************]  1 of 1 completed\n",
            "2023-03-30 21:46:53.575 Disabling daily seasonality. Run prophet with daily_seasonality=True to override this.\n",
            "2023-03-30 21:46:53.616 input tempfile: /tmp/tmpxz18s_p_/4x0nmi46.json\n",
            "2023-03-30 21:46:53.905 input tempfile: /tmp/tmpxz18s_p_/9o_w8j_z.json\n",
            "2023-03-30 21:46:53.907 idx 0\n",
            "2023-03-30 21:46:53.907 running CmdStan, num_threads: None\n",
            "2023-03-30 21:46:53.907 CmdStan args: ['/usr/local/lib/python3.9/dist-packages/prophet/stan_model/prophet_model.bin', 'random', 'seed=21498', 'data', 'file=/tmp/tmpxz18s_p_/4x0nmi46.json', 'init=/tmp/tmpxz18s_p_/9o_w8j_z.json', 'output', 'file=/tmp/tmpxz18s_p_/prophet_modelzcutht8_/prophet_model-20230330214653.csv', 'method=optimize', 'algorithm=lbfgs', 'iter=10000']\n",
            "21:46:53 - cmdstanpy - INFO - Chain [1] start processing\n",
            "2023-03-30 21:46:53.907 Chain [1] start processing\n",
            "21:46:56 - cmdstanpy - INFO - Chain [1] done processing\n",
            "2023-03-30 21:46:56.040 Chain [1] done processing\n",
            "2023-03-30 21:47:26.299 Disabling daily seasonality. Run prophet with daily_seasonality=True to override this.\n",
            "2023-03-30 21:47:26.323 input tempfile: /tmp/tmpxz18s_p_/k8kli5fp.json\n",
            "2023-03-30 21:47:26.474 input tempfile: /tmp/tmpxz18s_p_/y778m188.json\n",
            "2023-03-30 21:47:26.475 idx 0\n",
            "2023-03-30 21:47:26.475 running CmdStan, num_threads: None\n",
            "2023-03-30 21:47:26.476 CmdStan args: ['/usr/local/lib/python3.9/dist-packages/prophet/stan_model/prophet_model.bin', 'random', 'seed=89780', 'data', 'file=/tmp/tmpxz18s_p_/k8kli5fp.json', 'init=/tmp/tmpxz18s_p_/y778m188.json', 'output', 'file=/tmp/tmpxz18s_p_/prophet_model8tipbl5o/prophet_model-20230330214726.csv', 'method=optimize', 'algorithm=lbfgs', 'iter=10000']\n",
            "21:47:26 - cmdstanpy - INFO - Chain [1] start processing\n",
            "2023-03-30 21:47:26.476 Chain [1] start processing\n",
            "21:47:28 - cmdstanpy - INFO - Chain [1] done processing\n",
            "2023-03-30 21:47:28.340 Chain [1] done processing\n",
            "2023-03-30 21:53:23.507 Disabling daily seasonality. Run prophet with daily_seasonality=True to override this.\n",
            "2023-03-30 21:53:23.531 input tempfile: /tmp/tmpxz18s_p_/52y1yx1d.json\n",
            "2023-03-30 21:53:23.680 input tempfile: /tmp/tmpxz18s_p_/32d3s_tk.json\n",
            "2023-03-30 21:53:23.681 idx 0\n",
            "2023-03-30 21:53:23.681 running CmdStan, num_threads: None\n",
            "2023-03-30 21:53:23.681 CmdStan args: ['/usr/local/lib/python3.9/dist-packages/prophet/stan_model/prophet_model.bin', 'random', 'seed=21869', 'data', 'file=/tmp/tmpxz18s_p_/52y1yx1d.json', 'init=/tmp/tmpxz18s_p_/32d3s_tk.json', 'output', 'file=/tmp/tmpxz18s_p_/prophet_modele2w8438w/prophet_model-20230330215323.csv', 'method=optimize', 'algorithm=lbfgs', 'iter=10000']\n",
            "21:53:23 - cmdstanpy - INFO - Chain [1] start processing\n",
            "2023-03-30 21:53:23.681 Chain [1] start processing\n",
            "21:53:25 - cmdstanpy - INFO - Chain [1] done processing\n",
            "2023-03-30 21:53:25.573 Chain [1] done processing\n",
            "[*********************100%***********************]  1 of 1 completed\n",
            "2023-03-30 22:03:58.648 Disabling daily seasonality. Run prophet with daily_seasonality=True to override this.\n",
            "2023-03-30 22:03:58.680 input tempfile: /tmp/tmpxz18s_p_/pmy0e9oc.json\n",
            "2023-03-30 22:03:58.954 input tempfile: /tmp/tmpxz18s_p_/q5taq9fo.json\n",
            "2023-03-30 22:03:58.955 idx 0\n",
            "2023-03-30 22:03:58.956 running CmdStan, num_threads: None\n",
            "2023-03-30 22:03:58.956 CmdStan args: ['/usr/local/lib/python3.9/dist-packages/prophet/stan_model/prophet_model.bin', 'random', 'seed=12159', 'data', 'file=/tmp/tmpxz18s_p_/pmy0e9oc.json', 'init=/tmp/tmpxz18s_p_/q5taq9fo.json', 'output', 'file=/tmp/tmpxz18s_p_/prophet_modell0nuimny/prophet_model-20230330220358.csv', 'method=optimize', 'algorithm=lbfgs', 'iter=10000']\n",
            "22:03:58 - cmdstanpy - INFO - Chain [1] start processing\n",
            "2023-03-30 22:03:58.956 Chain [1] start processing\n",
            "22:03:59 - cmdstanpy - INFO - Chain [1] done processing\n",
            "2023-03-30 22:03:59.874 Chain [1] done processing\n",
            "[*********************100%***********************]  1 of 1 completed\n",
            "2023-03-30 22:05:52.642 Disabling daily seasonality. Run prophet with daily_seasonality=True to override this.\n",
            "2023-03-30 22:05:52.676 input tempfile: /tmp/tmpxz18s_p_/eleiw5ky.json\n",
            "2023-03-30 22:05:52.875 input tempfile: /tmp/tmpxz18s_p_/1r96olyc.json\n",
            "2023-03-30 22:05:52.876 idx 0\n",
            "2023-03-30 22:05:52.876 running CmdStan, num_threads: None\n",
            "2023-03-30 22:05:52.876 CmdStan args: ['/usr/local/lib/python3.9/dist-packages/prophet/stan_model/prophet_model.bin', 'random', 'seed=85928', 'data', 'file=/tmp/tmpxz18s_p_/eleiw5ky.json', 'init=/tmp/tmpxz18s_p_/1r96olyc.json', 'output', 'file=/tmp/tmpxz18s_p_/prophet_modelruvf4tv4/prophet_model-20230330220552.csv', 'method=optimize', 'algorithm=lbfgs', 'iter=10000']\n",
            "22:05:52 - cmdstanpy - INFO - Chain [1] start processing\n",
            "2023-03-30 22:05:52.876 Chain [1] start processing\n",
            "22:05:53 - cmdstanpy - INFO - Chain [1] done processing\n",
            "2023-03-30 22:05:53.970 Chain [1] done processing\n"
          ]
        }
      ],
      "source": [
        "!streamlit run app.py & npx localtunnel --port 8501"
      ]
    },
    {
      "cell_type": "code",
      "execution_count": null,
      "metadata": {
        "colab": {
          "base_uri": "https://localhost:8080/"
        },
        "id": "GbmG3msH5nA3",
        "outputId": "66cb68f8-06e8-4a7a-9b45-e6d64a7558e3"
      },
      "outputs": [
        {
          "name": "stdout",
          "output_type": "stream",
          "text": [
            "Looking in indexes: https://pypi.org/simple, https://us-python.pkg.dev/colab-wheels/public/simple/\n",
            "Collecting streamlit\n",
            "  Downloading streamlit-1.20.0-py2.py3-none-any.whl (9.6 MB)\n",
            "\u001b[2K     \u001b[90m━━━━━━━━━━━━━━━━━━━━━━━━━━━━━━━━━━━━━━━━\u001b[0m \u001b[32m9.6/9.6 MB\u001b[0m \u001b[31m13.6 MB/s\u001b[0m eta \u001b[36m0:00:00\u001b[0m\n",
            "\u001b[?25hRequirement already satisfied: altair<5,>=3.2.0 in /usr/local/lib/python3.9/dist-packages (from streamlit) (4.2.2)\n",
            "Requirement already satisfied: importlib-metadata>=1.4 in /usr/local/lib/python3.9/dist-packages (from streamlit) (6.1.0)\n",
            "Requirement already satisfied: protobuf<4,>=3.12 in /usr/local/lib/python3.9/dist-packages (from streamlit) (3.20.3)\n",
            "Requirement already satisfied: requests>=2.4 in /usr/local/lib/python3.9/dist-packages (from streamlit) (2.27.1)\n",
            "Collecting pympler>=0.9\n",
            "  Downloading Pympler-1.0.1-py3-none-any.whl (164 kB)\n",
            "\u001b[2K     \u001b[90m━━━━━━━━━━━━━━━━━━━━━━━━━━━━━━━━━━━━━━━\u001b[0m \u001b[32m164.8/164.8 KB\u001b[0m \u001b[31m7.7 MB/s\u001b[0m eta \u001b[36m0:00:00\u001b[0m\n",
            "\u001b[?25hCollecting watchdog\n",
            "  Downloading watchdog-3.0.0-py3-none-manylinux2014_x86_64.whl (82 kB)\n",
            "\u001b[2K     \u001b[90m━━━━━━━━━━━━━━━━━━━━━━━━━━━━━━━━━━━━━━━━\u001b[0m \u001b[32m82.1/82.1 KB\u001b[0m \u001b[31m2.0 MB/s\u001b[0m eta \u001b[36m0:00:00\u001b[0m\n",
            "\u001b[?25hRequirement already satisfied: pillow>=6.2.0 in /usr/local/lib/python3.9/dist-packages (from streamlit) (8.4.0)\n",
            "Collecting blinker>=1.0.0\n",
            "  Downloading blinker-1.5-py2.py3-none-any.whl (12 kB)\n",
            "Collecting semver\n",
            "  Downloading semver-2.13.0-py2.py3-none-any.whl (12 kB)\n",
            "Collecting gitpython!=3.1.19\n",
            "  Downloading GitPython-3.1.31-py3-none-any.whl (184 kB)\n",
            "\u001b[2K     \u001b[90m━━━━━━━━━━━━━━━━━━━━━━━━━━━━━━━━━━━━━━━\u001b[0m \u001b[32m184.3/184.3 KB\u001b[0m \u001b[31m7.8 MB/s\u001b[0m eta \u001b[36m0:00:00\u001b[0m\n",
            "\u001b[?25hRequirement already satisfied: rich>=10.11.0 in /usr/local/lib/python3.9/dist-packages (from streamlit) (13.3.3)\n",
            "Requirement already satisfied: cachetools>=4.0 in /usr/local/lib/python3.9/dist-packages (from streamlit) (5.3.0)\n",
            "Requirement already satisfied: pyarrow>=4.0 in /usr/local/lib/python3.9/dist-packages (from streamlit) (9.0.0)\n",
            "Requirement already satisfied: python-dateutil in /usr/local/lib/python3.9/dist-packages (from streamlit) (2.8.2)\n",
            "Requirement already satisfied: click>=7.0 in /usr/local/lib/python3.9/dist-packages (from streamlit) (8.1.3)\n",
            "Requirement already satisfied: tzlocal>=1.1 in /usr/local/lib/python3.9/dist-packages (from streamlit) (4.3)\n",
            "Requirement already satisfied: toml in /usr/local/lib/python3.9/dist-packages (from streamlit) (0.10.2)\n",
            "Requirement already satisfied: pandas<2,>=0.25 in /usr/local/lib/python3.9/dist-packages (from streamlit) (1.4.4)\n",
            "Requirement already satisfied: packaging>=14.1 in /usr/local/lib/python3.9/dist-packages (from streamlit) (23.0)\n",
            "Requirement already satisfied: tornado>=6.0.3 in /usr/local/lib/python3.9/dist-packages (from streamlit) (6.2)\n",
            "Requirement already satisfied: numpy in /usr/local/lib/python3.9/dist-packages (from streamlit) (1.22.4)\n",
            "Collecting pydeck>=0.1.dev5\n",
            "  Downloading pydeck-0.8.0-py2.py3-none-any.whl (4.7 MB)\n",
            "\u001b[2K     \u001b[90m━━━━━━━━━━━━━━━━━━━━━━━━━━━━━━━━━━━━━━━━\u001b[0m \u001b[32m4.7/4.7 MB\u001b[0m \u001b[31m17.9 MB/s\u001b[0m eta \u001b[36m0:00:00\u001b[0m\n",
            "\u001b[?25hRequirement already satisfied: typing-extensions>=3.10.0.0 in /usr/local/lib/python3.9/dist-packages (from streamlit) (4.5.0)\n",
            "Collecting validators>=0.2\n",
            "  Downloading validators-0.20.0.tar.gz (30 kB)\n",
            "  Preparing metadata (setup.py) ... \u001b[?25l\u001b[?25hdone\n",
            "Requirement already satisfied: entrypoints in /usr/local/lib/python3.9/dist-packages (from altair<5,>=3.2.0->streamlit) (0.4)\n",
            "Requirement already satisfied: jinja2 in /usr/local/lib/python3.9/dist-packages (from altair<5,>=3.2.0->streamlit) (3.1.2)\n",
            "Requirement already satisfied: jsonschema>=3.0 in /usr/local/lib/python3.9/dist-packages (from altair<5,>=3.2.0->streamlit) (4.3.3)\n",
            "Requirement already satisfied: toolz in /usr/local/lib/python3.9/dist-packages (from altair<5,>=3.2.0->streamlit) (0.12.0)\n",
            "Collecting gitdb<5,>=4.0.1\n",
            "  Downloading gitdb-4.0.10-py3-none-any.whl (62 kB)\n",
            "\u001b[2K     \u001b[90m━━━━━━━━━━━━━━━━━━━━━━━━━━━━━━━━━━━━━━━━\u001b[0m \u001b[32m62.7/62.7 KB\u001b[0m \u001b[31m3.1 MB/s\u001b[0m eta \u001b[36m0:00:00\u001b[0m\n",
            "\u001b[?25hRequirement already satisfied: zipp>=0.5 in /usr/local/lib/python3.9/dist-packages (from importlib-metadata>=1.4->streamlit) (3.15.0)\n",
            "Requirement already satisfied: pytz>=2020.1 in /usr/local/lib/python3.9/dist-packages (from pandas<2,>=0.25->streamlit) (2022.7.1)\n",
            "Requirement already satisfied: six>=1.5 in /usr/local/lib/python3.9/dist-packages (from python-dateutil->streamlit) (1.16.0)\n",
            "Requirement already satisfied: idna<4,>=2.5 in /usr/local/lib/python3.9/dist-packages (from requests>=2.4->streamlit) (3.4)\n",
            "Requirement already satisfied: certifi>=2017.4.17 in /usr/local/lib/python3.9/dist-packages (from requests>=2.4->streamlit) (2022.12.7)\n",
            "Requirement already satisfied: urllib3<1.27,>=1.21.1 in /usr/local/lib/python3.9/dist-packages (from requests>=2.4->streamlit) (1.26.15)\n",
            "Requirement already satisfied: charset-normalizer~=2.0.0 in /usr/local/lib/python3.9/dist-packages (from requests>=2.4->streamlit) (2.0.12)\n",
            "Requirement already satisfied: pygments<3.0.0,>=2.13.0 in /usr/local/lib/python3.9/dist-packages (from rich>=10.11.0->streamlit) (2.14.0)\n",
            "Requirement already satisfied: markdown-it-py<3.0.0,>=2.2.0 in /usr/local/lib/python3.9/dist-packages (from rich>=10.11.0->streamlit) (2.2.0)\n",
            "Requirement already satisfied: pytz-deprecation-shim in /usr/local/lib/python3.9/dist-packages (from tzlocal>=1.1->streamlit) (0.1.0.post0)\n",
            "Requirement already satisfied: decorator>=3.4.0 in /usr/local/lib/python3.9/dist-packages (from validators>=0.2->streamlit) (4.4.2)\n",
            "Collecting smmap<6,>=3.0.1\n",
            "  Downloading smmap-5.0.0-py3-none-any.whl (24 kB)\n",
            "Requirement already satisfied: MarkupSafe>=2.0 in /usr/local/lib/python3.9/dist-packages (from jinja2->altair<5,>=3.2.0->streamlit) (2.1.2)\n",
            "Requirement already satisfied: pyrsistent!=0.17.0,!=0.17.1,!=0.17.2,>=0.14.0 in /usr/local/lib/python3.9/dist-packages (from jsonschema>=3.0->altair<5,>=3.2.0->streamlit) (0.19.3)\n",
            "Requirement already satisfied: attrs>=17.4.0 in /usr/local/lib/python3.9/dist-packages (from jsonschema>=3.0->altair<5,>=3.2.0->streamlit) (22.2.0)\n",
            "Requirement already satisfied: mdurl~=0.1 in /usr/local/lib/python3.9/dist-packages (from markdown-it-py<3.0.0,>=2.2.0->rich>=10.11.0->streamlit) (0.1.2)\n",
            "Requirement already satisfied: tzdata in /usr/local/lib/python3.9/dist-packages (from pytz-deprecation-shim->tzlocal>=1.1->streamlit) (2023.3)\n",
            "Building wheels for collected packages: validators\n",
            "  Building wheel for validators (setup.py) ... \u001b[?25l\u001b[?25hdone\n",
            "  Created wheel for validators: filename=validators-0.20.0-py3-none-any.whl size=19579 sha256=6477d462fc84354fa3008f6126740d4a7b9656fe3e016c3296b4a7b196783912\n",
            "  Stored in directory: /root/.cache/pip/wheels/2d/f0/a8/1094fca7a7e5d0d12ff56e0c64675d72aa5cc81a5fc200e849\n",
            "Successfully built validators\n",
            "Installing collected packages: watchdog, validators, smmap, semver, pympler, blinker, pydeck, gitdb, gitpython, streamlit\n",
            "Successfully installed blinker-1.5 gitdb-4.0.10 gitpython-3.1.31 pydeck-0.8.0 pympler-1.0.1 semver-2.13.0 smmap-5.0.0 streamlit-1.20.0 validators-0.20.0 watchdog-3.0.0\n"
          ]
        }
      ],
      "source": [
        "!pip install streamlit"
      ]
    },
    {
      "cell_type": "code",
      "execution_count": null,
      "metadata": {
        "id": "nyQ5DA6A5nEP"
      },
      "outputs": [],
      "source": []
    },
    {
      "cell_type": "code",
      "execution_count": null,
      "metadata": {
        "id": "BAXF3_NX5nHh"
      },
      "outputs": [],
      "source": []
    },
    {
      "cell_type": "code",
      "execution_count": null,
      "metadata": {
        "id": "04P5S0uG5nLK"
      },
      "outputs": [],
      "source": []
    },
    {
      "cell_type": "code",
      "execution_count": null,
      "metadata": {
        "id": "vzM9XOIt5nPG"
      },
      "outputs": [],
      "source": []
    },
    {
      "cell_type": "code",
      "execution_count": null,
      "metadata": {
        "id": "Gdo-Adm45nTc"
      },
      "outputs": [],
      "source": []
    },
    {
      "cell_type": "code",
      "execution_count": null,
      "metadata": {
        "id": "q5BQ7oj25nfz"
      },
      "outputs": [],
      "source": []
    },
    {
      "cell_type": "code",
      "execution_count": null,
      "metadata": {
        "id": "mktJF1He2MFu"
      },
      "outputs": [],
      "source": []
    },
    {
      "cell_type": "code",
      "execution_count": null,
      "metadata": {
        "id": "zwqBuf-E2MIz"
      },
      "outputs": [],
      "source": []
    },
    {
      "cell_type": "code",
      "execution_count": null,
      "metadata": {
        "id": "_KNO1csh2MNL"
      },
      "outputs": [],
      "source": []
    }
  ],
  "metadata": {
    "colab": {
      "provenance": []
    },
    "kernelspec": {
      "display_name": "Python 3",
      "name": "python3"
    },
    "language_info": {
      "name": "python"
    }
  },
  "nbformat": 4,
  "nbformat_minor": 0
}